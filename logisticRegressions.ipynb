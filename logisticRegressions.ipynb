{
 "cells": [
  {
   "cell_type": "code",
   "execution_count": 238,
   "metadata": {},
   "outputs": [],
   "source": [
    "import pandas as pd\n",
    "from matplotlib import pyplot as plt\n",
    "from sklearn.impute import SimpleImputer\n",
    "from sklearn.preprocessing import MinMaxScaler\n",
    "from sklearn.model_selection import train_test_split\n",
    "from sklearn.linear_model import LogisticRegression\n",
    "from sklearn.metrics import accuracy_score, precision_score, recall_score, f1_score, roc_curve, roc_auc_score, plot_confusion_matrix"
   ]
  },
  {
   "cell_type": "markdown",
   "metadata": {},
   "source": [
    "# Coleta de Dados\n",
    "* Busque uma base de dados que seja apropriada para um problema de classificação. A base deve conter pelo menos uma variável dependente e duas ou mais variáveis independentes."
   ]
  },
  {
   "cell_type": "code",
   "execution_count": 239,
   "metadata": {},
   "outputs": [
    {
     "data": {
      "text/html": [
       "<div>\n",
       "<style scoped>\n",
       "    .dataframe tbody tr th:only-of-type {\n",
       "        vertical-align: middle;\n",
       "    }\n",
       "\n",
       "    .dataframe tbody tr th {\n",
       "        vertical-align: top;\n",
       "    }\n",
       "\n",
       "    .dataframe thead th {\n",
       "        text-align: right;\n",
       "    }\n",
       "</style>\n",
       "<table border=\"1\" class=\"dataframe\">\n",
       "  <thead>\n",
       "    <tr style=\"text-align: right;\">\n",
       "      <th></th>\n",
       "      <th>Glucose</th>\n",
       "      <th>BloodPressure</th>\n",
       "      <th>Skin Thickness</th>\n",
       "      <th>Insulin</th>\n",
       "      <th>BMI</th>\n",
       "      <th>Age</th>\n",
       "      <th>Outcome</th>\n",
       "    </tr>\n",
       "  </thead>\n",
       "  <tbody>\n",
       "    <tr>\n",
       "      <th>0</th>\n",
       "      <td>148.0</td>\n",
       "      <td>72.0</td>\n",
       "      <td>35.0</td>\n",
       "      <td>NaN</td>\n",
       "      <td>33.6</td>\n",
       "      <td>50</td>\n",
       "      <td>1</td>\n",
       "    </tr>\n",
       "    <tr>\n",
       "      <th>1</th>\n",
       "      <td>85.0</td>\n",
       "      <td>66.0</td>\n",
       "      <td>29.0</td>\n",
       "      <td>NaN</td>\n",
       "      <td>26.6</td>\n",
       "      <td>31</td>\n",
       "      <td>0</td>\n",
       "    </tr>\n",
       "    <tr>\n",
       "      <th>2</th>\n",
       "      <td>183.0</td>\n",
       "      <td>64.0</td>\n",
       "      <td>NaN</td>\n",
       "      <td>NaN</td>\n",
       "      <td>23.3</td>\n",
       "      <td>32</td>\n",
       "      <td>1</td>\n",
       "    </tr>\n",
       "    <tr>\n",
       "      <th>3</th>\n",
       "      <td>89.0</td>\n",
       "      <td>66.0</td>\n",
       "      <td>23.0</td>\n",
       "      <td>94.0</td>\n",
       "      <td>28.1</td>\n",
       "      <td>21</td>\n",
       "      <td>0</td>\n",
       "    </tr>\n",
       "    <tr>\n",
       "      <th>4</th>\n",
       "      <td>137.0</td>\n",
       "      <td>40.0</td>\n",
       "      <td>35.0</td>\n",
       "      <td>168.0</td>\n",
       "      <td>43.1</td>\n",
       "      <td>33</td>\n",
       "      <td>1</td>\n",
       "    </tr>\n",
       "    <tr>\n",
       "      <th>...</th>\n",
       "      <td>...</td>\n",
       "      <td>...</td>\n",
       "      <td>...</td>\n",
       "      <td>...</td>\n",
       "      <td>...</td>\n",
       "      <td>...</td>\n",
       "      <td>...</td>\n",
       "    </tr>\n",
       "    <tr>\n",
       "      <th>763</th>\n",
       "      <td>101.0</td>\n",
       "      <td>76.0</td>\n",
       "      <td>48.0</td>\n",
       "      <td>180.0</td>\n",
       "      <td>32.9</td>\n",
       "      <td>63</td>\n",
       "      <td>0</td>\n",
       "    </tr>\n",
       "    <tr>\n",
       "      <th>764</th>\n",
       "      <td>122.0</td>\n",
       "      <td>70.0</td>\n",
       "      <td>27.0</td>\n",
       "      <td>NaN</td>\n",
       "      <td>36.8</td>\n",
       "      <td>27</td>\n",
       "      <td>0</td>\n",
       "    </tr>\n",
       "    <tr>\n",
       "      <th>765</th>\n",
       "      <td>121.0</td>\n",
       "      <td>72.0</td>\n",
       "      <td>23.0</td>\n",
       "      <td>112.0</td>\n",
       "      <td>26.2</td>\n",
       "      <td>30</td>\n",
       "      <td>0</td>\n",
       "    </tr>\n",
       "    <tr>\n",
       "      <th>766</th>\n",
       "      <td>126.0</td>\n",
       "      <td>60.0</td>\n",
       "      <td>NaN</td>\n",
       "      <td>NaN</td>\n",
       "      <td>30.1</td>\n",
       "      <td>47</td>\n",
       "      <td>1</td>\n",
       "    </tr>\n",
       "    <tr>\n",
       "      <th>767</th>\n",
       "      <td>93.0</td>\n",
       "      <td>70.0</td>\n",
       "      <td>31.0</td>\n",
       "      <td>NaN</td>\n",
       "      <td>30.4</td>\n",
       "      <td>23</td>\n",
       "      <td>0</td>\n",
       "    </tr>\n",
       "  </tbody>\n",
       "</table>\n",
       "<p>768 rows × 7 columns</p>\n",
       "</div>"
      ],
      "text/plain": [
       "     Glucose  BloodPressure  Skin Thickness  Insulin   BMI  Age  Outcome\n",
       "0      148.0           72.0            35.0      NaN  33.6   50        1\n",
       "1       85.0           66.0            29.0      NaN  26.6   31        0\n",
       "2      183.0           64.0             NaN      NaN  23.3   32        1\n",
       "3       89.0           66.0            23.0     94.0  28.1   21        0\n",
       "4      137.0           40.0            35.0    168.0  43.1   33        1\n",
       "..       ...            ...             ...      ...   ...  ...      ...\n",
       "763    101.0           76.0            48.0    180.0  32.9   63        0\n",
       "764    122.0           70.0            27.0      NaN  36.8   27        0\n",
       "765    121.0           72.0            23.0    112.0  26.2   30        0\n",
       "766    126.0           60.0             NaN      NaN  30.1   47        1\n",
       "767     93.0           70.0            31.0      NaN  30.4   23        0\n",
       "\n",
       "[768 rows x 7 columns]"
      ]
     },
     "execution_count": 239,
     "metadata": {},
     "output_type": "execute_result"
    }
   ],
   "source": [
    "df = pd.read_csv('diabetes2.csv')\n",
    "df"
   ]
  },
  {
   "cell_type": "markdown",
   "metadata": {},
   "source": [
    "# Pré-processamento de Dados\n",
    "* Elementos Faltantes: Preencha ou remova quaisquer elementos faltantes na base de dados (caso existam).\n",
    "* Variáveis Categóricas: Se houver variáveis categóricas, transforme-as em variáveis numéricas.\n",
    "* Normalização: Normalize as variáveis se necessário.\n",
    "* Separação de Dados: Divida a base em conjuntos de treino e teste."
   ]
  },
  {
   "cell_type": "code",
   "execution_count": 240,
   "metadata": {},
   "outputs": [
    {
     "name": "stdout",
     "output_type": "stream",
     "text": [
      "Elementos faltantes:\n",
      "Glucose             5\n",
      "BloodPressure      35\n",
      "Skin Thickness    227\n",
      "Insulin           374\n",
      "BMI                11\n",
      "Age                 0\n",
      "Outcome             0\n",
      "dtype: int64\n",
      "\n",
      "Não há variáveis categóricas\n",
      "\n"
     ]
    }
   ],
   "source": [
    "print(f\"Elementos faltantes:\\n{df.isna().sum()}\\n\") \n",
    "imputer = SimpleImputer(strategy='mean')\n",
    "df[[\"Glucose\", \"BloodPressure\", \"Skin Thickness\", \"Insulin\", \"BMI\", \"Age\"]] = imputer.fit_transform(df[[\"Glucose\", \"BloodPressure\", \"Skin Thickness\", \"Insulin\", \"BMI\", \"Age\"]])\n",
    "\n",
    "print(\"Não há variáveis categóricas\\n\")\n",
    "\n",
    "scaler = MinMaxScaler()\n",
    "df[[\"Glucose\", \"BloodPressure\", \"Skin Thickness\", \"Insulin\", \"BMI\", \"Age\"]] = scaler.fit_transform(df[[\"Glucose\", \"BloodPressure\", \"Skin Thickness\", \"Insulin\", \"BMI\", \"Age\"]])\n",
    "\n",
    "XTrain, XTest, yTrain, yTest = train_test_split(df[[\"Glucose\", \"BloodPressure\", \"Skin Thickness\", \"Insulin\", \"BMI\", \"Age\"]], df[\"Outcome\"], test_size = 0.2)"
   ]
  },
  {
   "cell_type": "markdown",
   "metadata": {},
   "source": [
    "# Modelagem e Treino\n",
    "* Utilize a base de treino para criar e treinar um modelo de regressão logística usando a scikit-learn."
   ]
  },
  {
   "cell_type": "code",
   "execution_count": 241,
   "metadata": {},
   "outputs": [
    {
     "data": {
      "text/plain": [
       "LogisticRegression()"
      ]
     },
     "execution_count": 241,
     "metadata": {},
     "output_type": "execute_result"
    }
   ],
   "source": [
    "model = LogisticRegression()\n",
    "model.fit(XTrain, yTrain)"
   ]
  },
  {
   "cell_type": "markdown",
   "metadata": {},
   "source": [
    "# Avaliação de Modelo\n",
    "* Utilize a base de teste para fazer previsões.\n",
    "* Calcule métricas como a acurácia, precisão, recall e F1-score para avaliar o desempenho do modelo."
   ]
  },
  {
   "cell_type": "code",
   "execution_count": 242,
   "metadata": {},
   "outputs": [
    {
     "name": "stdout",
     "output_type": "stream",
     "text": [
      "     Outcome  Predição\n",
      "64         1         0\n",
      "299        0         0\n",
      "472        0         0\n",
      "331        0         0\n",
      "155        1         1\n",
      "..       ...       ...\n",
      "440        1         1\n",
      "104        0         0\n",
      "675        1         1\n",
      "554        0         0\n",
      "662        1         1\n",
      "\n",
      "[154 rows x 2 columns]\n",
      "\n",
      "Acurácia: 0.7857142857142857\n",
      "Precisão: 0.8333333333333334\n",
      "Recall: 0.4716981132075472\n",
      "F1-score: 0.6024096385542169\n"
     ]
    }
   ],
   "source": [
    "yPred = model.predict(XTest)\n",
    "\n",
    "dfComparacao = pd.DataFrame(yTest)\n",
    "dfComparacao[\"Predição\"] = yPred\n",
    "print(dfComparacao)\n",
    "\n",
    "accuracy = accuracy_score(yTest, yPred) #A acurácia mede a proporção de previsões corretas feitas pelo modelo em relação ao total de previsões. (Acurácia = (Verdadeiros Positivos + Verdadeiros Negativos) / (Verdadeiros Positivos + Falsos Positivos + Verdadeiros Negativos + Falsos Negativos))\n",
    "precision = precision_score(yTest, yPred) #A precisão mede a proporção de previsões positivas corretas feitas pelo modelo em relação ao total de previsões positivas(falsos positivos).(Precisão = Verdadeiros Positivos / (Verdadeiros Positivos + Falsos Positivos))\n",
    "recall = recall_score(yTest, yPred) #O recall mede a proporção de instâncias positivas reais que foram corretamente identificadas pelo modelo em relação ao total de instâncias positivas reais(falsos negativos).(Recall = Verdadeiros Positivos / (Verdadeiros Positivos + Falsos Negativos))\n",
    "f1 = f1_score(yTest, yPred) #O F1-Score é uma métrica que combina precisão e recall em um único valor. Ele fornece um equilíbrio entre essas duas métricas. (F1-Score = 2 * (Precisão * Recall) / (Precisão + Recall))\n",
    "\n",
    "print(f\"\\nAcurácia: {accuracy}\\nPrecisão: {precision}\\nRecall: {recall}\\nF1-score: {f1}\")"
   ]
  },
  {
   "cell_type": "markdown",
   "metadata": {},
   "source": [
    "# Visualização\n",
    "* Gere gráficos que mostrem a eficácia do modelo, como curvas ROC ou matrizes de confusão."
   ]
  },
  {
   "cell_type": "code",
   "execution_count": 243,
   "metadata": {},
   "outputs": [
    {
     "name": "stderr",
     "output_type": "stream",
     "text": [
      "/home/Cantarino/.local/lib/python3.7/site-packages/sklearn/utils/deprecation.py:87: FutureWarning: Function plot_confusion_matrix is deprecated; Function `plot_confusion_matrix` is deprecated in 1.0 and will be removed in 1.2. Use one of the class methods: ConfusionMatrixDisplay.from_predictions or ConfusionMatrixDisplay.from_estimator.\n",
      "  warnings.warn(msg, category=FutureWarning)\n"
     ]
    },
    {
     "data": {
      "text/plain": [
       "<sklearn.metrics._plot.confusion_matrix.ConfusionMatrixDisplay at 0x7f795cdb8a90>"
      ]
     },
     "execution_count": 243,
     "metadata": {},
     "output_type": "execute_result"
    },
    {
     "data": {
      "image/png": "[encoded data removed]",
      "text/plain": [
       "<Figure size 640x480 with 1 Axes>"
      ]
     },
     "metadata": {},
     "output_type": "display_data"
    },
    {
     "data": {
      "image/png": "[encoded data removed]",
      "text/plain": [
       "<Figure size 640x480 with 2 Axes>"
      ]
     },
     "metadata": {},
     "output_type": "display_data"
    }
   ],
   "source": [
    "prob = model.predict_proba(XTest)\n",
    "trueProb = prob[:,1]\n",
    "fpr, tpr, _ = roc_curve(yTest, trueProb)\n",
    "#auc = roc_auc_score(yTest, trueProb) #Área de baico da curva | 1 = modelo perfeito; 0,5 = igual acaso\n",
    "plt.plot(fpr, tpr, marker='.', label= 'curva ROC')\n",
    "plt.xlabel('Taxa de falsos positivos')\n",
    "plt.ylabel('Taxa de reais positivos')\n",
    "plt.legend(loc='lower right')\n",
    "\n",
    "plot_confusion_matrix(model, XTest, yTest)"
   ]
  },
  {
   "cell_type": "markdown",
   "metadata": {},
   "source": [
    "# Relatório\n",
    "\n",
    "## Coleta de dados:\n",
    "\n",
    "O banco de dados contém detalhes sobre pacientes, todas mulheres acima de 21 anos. Possui informação sobre alguns dados relacionados a saúde e se elas tem diabetes ou não.objetivo é usar os campos para inferir se os pacientes possuem diabetes ou não.\n",
    "Os campos são: \n",
    "* Nível de glicose\n",
    "* Valor de pressão arterial\n",
    "* Espessura da pele\n",
    "* Nível de insulina\n",
    "* IMC\n",
    "* Idade\n",
    "* Possui diabetes ou não\n",
    "\n",
    "## Pré-processamento de dados:\n",
    "\n",
    "* Haviam dados faltantes, que forem preenchidos com a média das colunas. \n",
    "* Não haviam dados categóricos.\n",
    "* Todas as variáveis independetes foram normalizadas.\n",
    "\n",
    "## Avaliação do modelo:\n",
    "\n",
    "As métricas obtidas são cerca de:\n",
    "* Acurácia: 0.7662337662337663\n",
    "* Precisão: 0.6842105263157895\n",
    "* Recall: 0.52\n",
    "* F1-score: 0.5909090909090909\n",
    "\n",
    "Onde cada métrica funciona da seguinte forma:\n",
    "* A acurácia mede a proporção de previsões corretas de todas as previsões.\n",
    "* A precisão mede a proporção de previsões positivas corretas em relação a todas as previsões positivas.\n",
    "* O recall mede a proporção de instâncias positivas reais corretamente identificadas em relação a todas as instâncias positivas reais.\n",
    "* O F1-Score é uma métrica de equilíbrio que combina precisão e recall em um único valor.\n",
    "\n",
    "Quanto mais próximo de 1 esses valores, mais preciso é o modelo. Portanto, esse modelo não é muito preciso ou confiável."
   ]
  }
 ],
 "metadata": {
  "kernelspec": {
   "display_name": "Python 3",
   "language": "python",
   "name": "python3"
  },
  "language_info": {
   "codemirror_mode": {
    "name": "ipython",
    "version": 3
   },
   "file_extension": ".py",
   "mimetype": "text/x-python",
   "name": "python",
   "nbconvert_exporter": "python",
   "pygments_lexer": "ipython3",
   "version": "3.7.3"
  },
  "orig_nbformat": 4
 },
 "nbformat": 4,
 "nbformat_minor": 2
}
